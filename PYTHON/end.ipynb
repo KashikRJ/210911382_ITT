{
 "cells": [
  {
   "cell_type": "code",
   "execution_count": 1,
   "metadata": {},
   "outputs": [
    {
     "name": "stdout",
     "output_type": "stream",
     "text": [
      "Opened databse succesfully\n"
     ]
    }
   ],
   "source": [
    "import sqlite3\n",
    "conn=sqlite3.connect('ayush.db')\n",
    "print(\"Opened databse succesfully\")"
   ]
  },
  {
   "cell_type": "code",
   "execution_count": 2,
   "metadata": {},
   "outputs": [],
   "source": [
    "conn.execute('''CREATE TABLE patientinfo (\n",
    "    patient_id INTEGER PRIMARY KEY, \n",
    "    name TEXT,\n",
    "    date_of_arrival DATE,\n",
    "    date_of_departure DATE,\n",
    "    rent_per_day REAL  \n",
    ");''')\n",
    "conn.commit()\n",
    "conn.close()"
   ]
  },
  {
   "cell_type": "code",
   "execution_count": 4,
   "metadata": {},
   "outputs": [],
   "source": [
    "conn=sqlite3.connect('ayush.db')\n",
    "conn.execute('''CREATE TABLE medicalinfo (\n",
    "    patient_id INTEGER,  \n",
    "    name_of_medicine TEXT,\n",
    "    amount REAL, \n",
    "    particulars TEXT,\n",
    "    FOREIGN KEY (patient_id) REFERENCES patientinfo(patient_id)\n",
    ");''')\n",
    "conn.commit()\n",
    "conn.close()"
   ]
  },
  {
   "cell_type": "code",
   "execution_count": 5,
   "metadata": {},
   "outputs": [],
   "source": [
    "\n",
    "\n",
    "# Connect to the SQLite database\n",
    "conn = sqlite3.connect('ayush.db')\n",
    "\n",
    "# Data for patientinfo\n",
    "patients = [\n",
    "    (1, 'John Doe', '2023-04-01', '2023-04-10', 100.0),\n",
    "    (2, 'Jane Smith', '2023-04-05', '2023-04-15', 120.0),\n",
    "    (3, 'Alice Johnson', '2023-03-20', '2023-03-25', 95.0),\n",
    "    (4, 'Bob Lee', '2023-03-15', '2023-03-22', 110.0),\n",
    "    (5, 'Carol White', '2023-03-10', '2023-03-15', 105.0),\n",
    "    (6, 'Derek Black', '2023-02-25', '2023-03-02', 100.0),\n",
    "    (7, 'Eva Green', '2023-04-01', '2023-04-08', 115.0)\n",
    "]\n",
    "\n",
    "# Data for medicalinfo\n",
    "medications = [\n",
    "    (1, 'Medicine A', 50.0, 'Daily dose'),\n",
    "    (1, 'Medicine B', 30.0, 'Twice a day'),\n",
    "    (2, 'Medicine C', 45.0, 'Once a week'),\n",
    "    (3, 'Medicine D', 25.0, 'Every four hours'),\n",
    "    (3, 'Medicine E', 35.0, 'Three times a day'),\n",
    "    (4, 'Medicine F', 55.0, 'Once every morning'),\n",
    "    (5, 'Medicine G', 40.0, 'Once at night'),\n",
    "    (6, 'Medicine H', 20.0, 'Twice a week'),\n",
    "    (7, 'Medicine I', 65.0, 'Every twelve hours'),\n",
    "    (7, 'Medicine J', 75.0, 'Every six hours')\n",
    "]\n",
    "\n",
    "# Insert data into patientinfo\n",
    "conn.executemany('''\n",
    "    INSERT INTO patientinfo (patient_id, name, date_of_arrival, date_of_departure, rent_per_day) \n",
    "    VALUES (?, ?, ?, ?, ?)\n",
    "''', patients)\n",
    "\n",
    "# Insert data into medicalinfo\n",
    "conn.executemany('''\n",
    "    INSERT INTO medicalinfo (patient_id, name_of_medicine, amount, particulars) \n",
    "    VALUES (?, ?, ?, ?)\n",
    "''', medications)\n",
    "\n",
    "# Commit the changes\n",
    "conn.commit()\n",
    "\n",
    "# Close the connection\n",
    "conn.close()\n",
    " \n"
   ]
  },
  {
   "cell_type": "code",
   "execution_count": 6,
   "metadata": {},
   "outputs": [
    {
     "name": "stdout",
     "output_type": "stream",
     "text": [
      "(1, 'John Doe', '2023-04-01', '2023-04-10', 100.0, 'Medicine A', 50.0, 'Daily dose')\n",
      "(1, 'John Doe', '2023-04-01', '2023-04-10', 100.0, 'Medicine B', 30.0, 'Twice a day')\n",
      "(2, 'Jane Smith', '2023-04-05', '2023-04-15', 120.0, 'Medicine C', 45.0, 'Once a week')\n",
      "(3, 'Alice Johnson', '2023-03-20', '2023-03-25', 95.0, 'Medicine D', 25.0, 'Every four hours')\n",
      "(3, 'Alice Johnson', '2023-03-20', '2023-03-25', 95.0, 'Medicine E', 35.0, 'Three times a day')\n",
      "(4, 'Bob Lee', '2023-03-15', '2023-03-22', 110.0, 'Medicine F', 55.0, 'Once every morning')\n",
      "(5, 'Carol White', '2023-03-10', '2023-03-15', 105.0, 'Medicine G', 40.0, 'Once at night')\n",
      "(6, 'Derek Black', '2023-02-25', '2023-03-02', 100.0, 'Medicine H', 20.0, 'Twice a week')\n",
      "(7, 'Eva Green', '2023-04-01', '2023-04-08', 115.0, 'Medicine I', 65.0, 'Every twelve hours')\n",
      "(7, 'Eva Green', '2023-04-01', '2023-04-08', 115.0, 'Medicine J', 75.0, 'Every six hours')\n"
     ]
    }
   ],
   "source": [
    "conn=sqlite3.connect('ayush.db')\n",
    "cursor=conn.execute('''select * from patientinfo natural join medicalinfo ''') #or using tbl1 join tbl2 on tbl1.id=tbl2.id\n",
    "for row in cursor:\n",
    "    print(row)\n",
    "conn.close()"
   ]
  },
  {
   "cell_type": "code",
   "execution_count": 9,
   "metadata": {},
   "outputs": [
    {
     "name": "stdout",
     "output_type": "stream",
     "text": [
      "(1, 'John Doe', '2023-04-01', '2023-04-10', 100.0)\n",
      "(2, 'Jane Smith', '2023-04-05', '2023-04-15', 120.0)\n"
     ]
    }
   ],
   "source": [
    "import sqlite3\n",
    "\n",
    "# Connect to SQLite database\n",
    "conn = sqlite3.connect('ayush.db')\n",
    "cursor = conn.cursor()\n",
    "\n",
    "# Execute a query\n",
    "cursor.execute(\"SELECT * FROM patientinfo WHERE name LIKE 'J%'\")\n",
    "results = cursor.fetchall()\n",
    "\n",
    "# Print results\n",
    "for row in results:\n",
    "    print(row)\n",
    "\n",
    "# Close the connection\n",
    "conn.close()\n"
   ]
  },
  {
   "cell_type": "code",
   "execution_count": 12,
   "metadata": {},
   "outputs": [
    {
     "name": "stdout",
     "output_type": "stream",
     "text": [
      "Name: John Doe, Arrival: 2023-04-01, Departure: 2023-04-10, Days: 9, Daily Rent: $100.0, Total Rent: $900.0\n",
      "Name: Jane Smith, Arrival: 2023-04-05, Departure: 2023-04-15, Days: 10, Daily Rent: $120.0, Total Rent: $1200.0\n",
      "Name: Alice Johnson, Arrival: 2023-03-20, Departure: 2023-03-25, Days: 5, Daily Rent: $95.0, Total Rent: $475.0\n",
      "Name: Bob Lee, Arrival: 2023-03-15, Departure: 2023-03-22, Days: 7, Daily Rent: $110.0, Total Rent: $770.0\n",
      "Name: Carol White, Arrival: 2023-03-10, Departure: 2023-03-15, Days: 5, Daily Rent: $105.0, Total Rent: $525.0\n",
      "Name: Derek Black, Arrival: 2023-02-25, Departure: 2023-03-02, Days: 7, Daily Rent: $100.0, Total Rent: $700.0\n",
      "Name: Eva Green, Arrival: 2023-04-01, Departure: 2023-04-08, Days: 7, Daily Rent: $115.0, Total Rent: $805.0\n"
     ]
    }
   ],
   "source": [
    "import sqlite3\n",
    "\n",
    "# Function to calculate the number of days between two dates in DD-MM-YYYY format\n",
    "def calculate_days(start_date, end_date):\n",
    "    # Extracting day, month, and year components from the start date\n",
    "     year1,month1,day1 = int(start_date[:4]), int(start_date[5:7]), int(start_date[8:])\n",
    "    # Extracting day, month, and year components from the end date\n",
    "     year2,month2,day2 = int(end_date[:4]), int(end_date[5:7]), int(end_date[8:])\n",
    "    \n",
    "    # Convert dates to \"total days\" for easy arithmetic (simplified model)\n",
    "     total_days_start = year1 * 360 + month1 * 30 + day1\n",
    "     total_days_end = year2 * 360 + month2 * 30 + day2\n",
    "    \n",
    "    # Calculate the difference in days\n",
    "     return total_days_end - total_days_start\n",
    "\n",
    "# Connect to the SQLite database\n",
    "conn = sqlite3.connect('ayush.db')\n",
    "cursor = conn.cursor()\n",
    "\n",
    "# SQL command to fetch necessary data\n",
    "query = '''\n",
    "SELECT name, date_of_arrival, date_of_departure, rent_per_day\n",
    "FROM patientinfo;\n",
    "'''\n",
    "\n",
    "# Execute the query\n",
    "cursor.execute(query)\n",
    "\n",
    "# Fetch all the results\n",
    "results = cursor.fetchall()\n",
    "\n",
    "# Process each record to calculate total rent\n",
    "for result in results:\n",
    "    name, arrival, departure, rent_per_day = result\n",
    "    num_days = calculate_days(arrival, departure)\n",
    "    total_rent = num_days * rent_per_day\n",
    "    print(f\"Name: {name}, Arrival: {arrival}, Departure: {departure}, Days: {num_days}, Daily Rent: ${rent_per_day}, Total Rent: ${total_rent}\")\n",
    "\n",
    "# Close the connection\n",
    "conn.close()\n"
   ]
  },
  {
   "cell_type": "code",
   "execution_count": null,
   "metadata": {},
   "outputs": [],
   "source": []
  }
 ],
 "metadata": {
  "kernelspec": {
   "display_name": "base",
   "language": "python",
   "name": "python3"
  },
  "language_info": {
   "codemirror_mode": {
    "name": "ipython",
    "version": 3
   },
   "file_extension": ".py",
   "mimetype": "text/x-python",
   "name": "python",
   "nbconvert_exporter": "python",
   "pygments_lexer": "ipython3",
   "version": "3.11.7"
  }
 },
 "nbformat": 4,
 "nbformat_minor": 2
}
