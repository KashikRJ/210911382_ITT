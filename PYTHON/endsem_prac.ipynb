{
 "cells": [
  {
   "cell_type": "code",
   "execution_count": 1,
   "metadata": {},
   "outputs": [
    {
     "name": "stdout",
     "output_type": "stream",
     "text": [
      "Opened databse succesfully\n"
     ]
    }
   ],
   "source": [
    "import sqlite3\n",
    "conn=sqlite3.connect('student_test.db')\n",
    "print(\"Opened databse succesfully\")\n"
   ]
  },
  {
   "cell_type": "code",
   "execution_count": 2,
   "metadata": {},
   "outputs": [
    {
     "name": "stdout",
     "output_type": "stream",
     "text": [
      "Table created successfully\n"
     ]
    }
   ],
   "source": [
    "conn.execute(''' create table student \n",
    "             (Student_ID int primary key not null,\n",
    "             Reg_No int not null,\n",
    "             Branch text int not null,\n",
    "             Sem int not null,\n",
    "             Sec text not null,\n",
    "             Cgpa Real not null,\n",
    "             email text not null); ''')\n",
    "print(\"Table created successfully\")\n",
    "conn.commit()\n",
    "conn.close()"
   ]
  },
  {
   "cell_type": "code",
   "execution_count": null,
   "metadata": {},
   "outputs": [],
   "source": []
  },
  {
   "cell_type": "code",
   "execution_count": 3,
   "metadata": {},
   "outputs": [],
   "source": [
    "def view_table():\n",
    "    conn=sqlite3.connect('student_test.db')\n",
    "    cursor=conn.execute('''select * from student\n",
    "                        order by Student_ID desc ''')\n",
    "    \n",
    "    for row in cursor:\n",
    "        print(row)\n",
    "\n",
    "    print(\"Operation done successfully\")\n",
    "    conn.close()\n",
    "\n"
   ]
  },
  {
   "cell_type": "code",
   "execution_count": 4,
   "metadata": {},
   "outputs": [],
   "source": [
    "def insert(a,b,c,d,e,f,g):   \n",
    "    conn=sqlite3.connect('student_test.db')\n",
    "    conn.execute('''insert into student\n",
    "                values(?,?,?,?,?,?,?)''',(a,b,c,d,e,f,g))\n",
    "    conn.commit()\n",
    "    conn.close()"
   ]
  },
  {
   "cell_type": "code",
   "execution_count": 32,
   "metadata": {},
   "outputs": [],
   "source": [
    "def search(reg_no):\n",
    "    conn=sqlite3.connect('student_test.db')\n",
    "    cursor=conn.execute('''select * from student where Reg_No = ?''',(reg_no,))\n",
    "    rows=cursor.fetchall()\n",
    "    if rows:\n",
    "        for row in rows:\n",
    "         print(row)\n",
    "    else:\n",
    "        print(\"No rows\")\n",
    "    conn.close()"
   ]
  },
  {
   "cell_type": "code",
   "execution_count": 18,
   "metadata": {},
   "outputs": [],
   "source": [
    "def update(id,cgpa):\n",
    "    conn=sqlite3.connect('student_test.db')\n",
    "    conn.execute(''' update student\n",
    "                   set Cgpa= ?\n",
    "                   where Student_ID= ?''',(cgpa,id))\n",
    "    \n",
    "    conn.commit()\n",
    "    conn.close()"
   ]
  },
  {
   "cell_type": "code",
   "execution_count": 7,
   "metadata": {},
   "outputs": [],
   "source": [
    "insert(1,100,'IT',6,'A',9.0,'abc@gmail.com')"
   ]
  },
  {
   "cell_type": "code",
   "execution_count": 8,
   "metadata": {},
   "outputs": [],
   "source": [
    "insert(2,200,'IT',8,'B',9.2,'def@gmail.com')\n"
   ]
  },
  {
   "cell_type": "code",
   "execution_count": 9,
   "metadata": {},
   "outputs": [],
   "source": [
    "insert(3,300,'IT',8,'B',9.2,'def@gmail.com')\n",
    "insert(4,400,'IT',8,'B',9.2,'def@gmail.com')"
   ]
  },
  {
   "cell_type": "code",
   "execution_count": 10,
   "metadata": {},
   "outputs": [],
   "source": [
    "insert(5,500,'IT',8,'B',9.2,'def@gmail.com')"
   ]
  },
  {
   "cell_type": "code",
   "execution_count": 11,
   "metadata": {},
   "outputs": [
    {
     "name": "stdout",
     "output_type": "stream",
     "text": [
      "(5, 500, 'IT', 8, 'B', 9.2, 'def@gmail.com')\n",
      "(4, 400, 'IT', 8, 'B', 9.2, 'def@gmail.com')\n",
      "(3, 300, 'IT', 8, 'B', 9.2, 'def@gmail.com')\n",
      "(2, 200, 'IT', 8, 'B', 9.2, 'def@gmail.com')\n",
      "(1, 100, 'IT', 6, 'A', 9.0, 'abc@gmail.com')\n",
      "Operation done successfully\n"
     ]
    }
   ],
   "source": [
    "view_table()"
   ]
  },
  {
   "cell_type": "code",
   "execution_count": 33,
   "metadata": {},
   "outputs": [
    {
     "name": "stdout",
     "output_type": "stream",
     "text": [
      "No rows\n"
     ]
    }
   ],
   "source": [
    "search(105)"
   ]
  },
  {
   "cell_type": "code",
   "execution_count": 19,
   "metadata": {},
   "outputs": [
    {
     "name": "stdout",
     "output_type": "stream",
     "text": [
      "(5, 500, 'IT', 8, 'B', 9.2, 'def@gmail.com')\n",
      "(4, 400, 'IT', 8, 'B', 9.2, 'def@gmail.com')\n",
      "(3, 300, 'IT', 8, 'B', 9.2, 'def@gmail.com')\n",
      "(2, 200, 'IT', 8, 'B', 9.2, 'def@gmail.com')\n",
      "(1, 100, 'IT', 6, 'A', 7.0, 'abc@gmail.com')\n",
      "Operation done successfully\n"
     ]
    }
   ],
   "source": [
    "update(1,7.0)\n",
    "view_table()"
   ]
  },
  {
   "cell_type": "markdown",
   "metadata": {},
   "source": [
    "Write a Python program to sort and display the student records which are stored in the database.(Student ID, Reg No, Branch, Semester, Section, CGPA, email)\n",
    "2. Develop a Python program using data base connectivity to perform registration with required validation.\n",
    "3. Write a Python program to search a specific student details from the database based on regno.\n",
    "4. Write a python program to update CGPA based on student ID."
   ]
  },
  {
   "cell_type": "markdown",
   "metadata": {},
   "source": [
    "AVG"
   ]
  },
  {
   "cell_type": "code",
   "execution_count": 35,
   "metadata": {},
   "outputs": [
    {
     "name": "stdout",
     "output_type": "stream",
     "text": [
      "8.76\n"
     ]
    }
   ],
   "source": [
    "def avg():\n",
    "    conn=sqlite3.connect('student_test.db')\n",
    "    cursor=conn.execute('select cgpa from student')\n",
    "    cgpa=cursor.fetchall()\n",
    "    sum=0\n",
    "    count=0\n",
    "    for row in cgpa:\n",
    "        sum+=row[0]\n",
    "        count+=1\n",
    "    print(sum/count)\n",
    "avg()"
   ]
  },
  {
   "cell_type": "code",
   "execution_count": 36,
   "metadata": {},
   "outputs": [
    {
     "name": "stdout",
     "output_type": "stream",
     "text": [
      "(8.76,)\n"
     ]
    }
   ],
   "source": [
    "def avg2():\n",
    "    conn=sqlite3.connect('student_test.db')\n",
    "    cursor=conn.execute('select avg(cgpa) from student')\n",
    "    for row in cursor:\n",
    "        print(row)\n",
    "avg2()"
   ]
  },
  {
   "cell_type": "code",
   "execution_count": 45,
   "metadata": {},
   "outputs": [],
   "source": [
    "conn.close()"
   ]
  },
  {
   "cell_type": "code",
   "execution_count": 5,
   "metadata": {},
   "outputs": [
    {
     "ename": "OperationalError",
     "evalue": "database is locked",
     "output_type": "error",
     "traceback": [
      "\u001b[1;31m---------------------------------------------------------------------------\u001b[0m",
      "\u001b[1;31mOperationalError\u001b[0m                          Traceback (most recent call last)",
      "Cell \u001b[1;32mIn[5], line 3\u001b[0m\n\u001b[0;32m      1\u001b[0m conn\u001b[38;5;241m=\u001b[39msqlite3\u001b[38;5;241m.\u001b[39mconnect(\u001b[38;5;124m'\u001b[39m\u001b[38;5;124mtest.db\u001b[39m\u001b[38;5;124m'\u001b[39m)\n\u001b[0;32m      2\u001b[0m conn\u001b[38;5;241m.\u001b[39mexecute(\u001b[38;5;124m'\u001b[39m\u001b[38;5;124mPRAGMA foreign_keys = ON;\u001b[39m\u001b[38;5;124m'\u001b[39m)\n\u001b[1;32m----> 3\u001b[0m conn\u001b[38;5;241m.\u001b[39mexecute(\u001b[38;5;124m'''\u001b[39m\u001b[38;5;124mCREATE TABLE employees2 (\u001b[39m\n\u001b[0;32m      4\u001b[0m \u001b[38;5;124m    employee_id INTEGER PRIMARY KEY,\u001b[39m\n\u001b[0;32m      5\u001b[0m \u001b[38;5;124m    name TEXT,\u001b[39m\n\u001b[0;32m      6\u001b[0m \u001b[38;5;124m    department_id INTEGER,\u001b[39m\n\u001b[0;32m      7\u001b[0m \u001b[38;5;124m    foreign key (department_id) references departments1(department_id)  \u001b[39m\n\u001b[0;32m      8\u001b[0m \u001b[38;5;124m)\u001b[39m\u001b[38;5;124m'''\u001b[39m)\n\u001b[0;32m     10\u001b[0m conn\u001b[38;5;241m.\u001b[39mexecute(\u001b[38;5;124m'''\u001b[39m\u001b[38;5;124mCREATE TABLE departments1 (\u001b[39m\n\u001b[0;32m     11\u001b[0m \u001b[38;5;124m    department_id INTEGER PRIMARY KEY,\u001b[39m\n\u001b[0;32m     12\u001b[0m \u001b[38;5;124m    department_name TEXT\u001b[39m\n\u001b[0;32m     13\u001b[0m \u001b[38;5;124m          \u001b[39m\n\u001b[0;32m     14\u001b[0m \u001b[38;5;124m)\u001b[39m\u001b[38;5;124m'''\u001b[39m)\n\u001b[0;32m     16\u001b[0m conn\u001b[38;5;241m.\u001b[39mexecute(\u001b[38;5;124m'''\u001b[39m\u001b[38;5;124m INSERT INTO employees2 (name, department_id) VALUES (\u001b[39m\u001b[38;5;124m'\u001b[39m\u001b[38;5;124mAlice\u001b[39m\u001b[38;5;124m'\u001b[39m\u001b[38;5;124m, 1)\u001b[39m\u001b[38;5;124m'''\u001b[39m)\n",
      "\u001b[1;31mOperationalError\u001b[0m: database is locked"
     ]
    }
   ],
   "source": [
    "\n",
    "conn=sqlite3.connect('test.db')\n",
    "conn.execute('PRAGMA foreign_keys = ON;')\n",
    "conn.execute('''CREATE TABLE employees2 (\n",
    "    employee_id INTEGER PRIMARY KEY,\n",
    "    name TEXT,\n",
    "    department_id INTEGER,\n",
    "    foreign key (department_id) references departments1(department_id)  \n",
    ")''')\n",
    "\n",
    "conn.execute('''CREATE TABLE departments1 (\n",
    "    department_id INTEGER PRIMARY KEY,\n",
    "    department_name TEXT\n",
    "          \n",
    ")''')\n",
    "\n",
    "conn.execute(''' INSERT INTO employees2 (name, department_id) VALUES ('Alice', 1)''')\n",
    "conn.execute(''' INSERT INTO employees2 (name, department_id) VALUES ('Bob', 2)''')\n",
    "conn.execute('''INSERT INTO departments1 (department_id, department_name) VALUES (1, 'HR') ''')\n",
    "conn.execute(''' INSERT INTO departments1 (department_id, department_name) VALUES (2, 'Finance')''')\n",
    "conn.commit()\n",
    "conn.close()\n"
   ]
  },
  {
   "cell_type": "code",
   "execution_count": 41,
   "metadata": {},
   "outputs": [
    {
     "name": "stdout",
     "output_type": "stream",
     "text": [
      "(1, 'Alice', 1, 'HR')\n",
      "(2, 'Bob', 2, 'Finance')\n"
     ]
    }
   ],
   "source": [
    "conn=sqlite3.connect('test.db')\n",
    "cursor=conn.execute(''' SELECT *\n",
    "FROM employees\n",
    "NATURAL JOIN departments''')\n",
    "for row in cursor:\n",
    "    print(row)"
   ]
  },
  {
   "cell_type": "code",
   "execution_count": 43,
   "metadata": {},
   "outputs": [],
   "source": [
    "conn.close()"
   ]
  },
  {
   "cell_type": "code",
   "execution_count": null,
   "metadata": {},
   "outputs": [],
   "source": []
  }
 ],
 "metadata": {
  "kernelspec": {
   "display_name": "base",
   "language": "python",
   "name": "python3"
  },
  "language_info": {
   "codemirror_mode": {
    "name": "ipython",
    "version": 3
   },
   "file_extension": ".py",
   "mimetype": "text/x-python",
   "name": "python",
   "nbconvert_exporter": "python",
   "pygments_lexer": "ipython3",
   "version": "3.11.7"
  }
 },
 "nbformat": 4,
 "nbformat_minor": 2
}
