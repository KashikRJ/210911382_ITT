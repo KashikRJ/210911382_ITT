{
 "cells": [
  {
   "cell_type": "code",
   "execution_count": 23,
   "metadata": {},
   "outputs": [
    {
     "name": "stdout",
     "output_type": "stream",
     "text": [
      "Hello World\n"
     ]
    }
   ],
   "source": [
    "print(\"Hello World\")"
   ]
  },
  {
   "cell_type": "code",
   "execution_count": 24,
   "metadata": {},
   "outputs": [
    {
     "name": "stdout",
     "output_type": "stream",
     "text": [
      "3\n",
      "-1\n",
      "0.5\n",
      "2\n"
     ]
    }
   ],
   "source": [
    "a=1\n",
    "b=2\n",
    "print(a+b)\n",
    "print(a-b)\n",
    "print(a/b)\n",
    "print(a*b)"
   ]
  },
  {
   "cell_type": "code",
   "execution_count": 25,
   "metadata": {},
   "outputs": [
    {
     "name": "stdout",
     "output_type": "stream",
     "text": [
      "[[1, 2, 3], [4, 5, 6], [7, 8, 9]]\n"
     ]
    }
   ],
   "source": [
    "mat1=[[1,2,3],[4,5,6],[7,8,9]]\n",
    "print(mat1)\n",
    "\n",
    "transpose=[[0,0,0],[0,0,0],[0,0,0]]"
   ]
  },
  {
   "cell_type": "code",
   "execution_count": 26,
   "metadata": {},
   "outputs": [],
   "source": [
    "for row in range(len(mat1)):\n",
    " for col in range(len(mat1[0])):\n",
    "      transpose[col][row]=mat1[row][col]\n",
    "      "
   ]
  },
  {
   "cell_type": "code",
   "execution_count": 27,
   "metadata": {},
   "outputs": [
    {
     "name": "stdout",
     "output_type": "stream",
     "text": [
      "[1, 4, 7]\n",
      "[2, 5, 8]\n",
      "[3, 6, 9]\n"
     ]
    }
   ],
   "source": [
    "for r in transpose:\n",
    "    print(r)"
   ]
  },
  {
   "cell_type": "code",
   "execution_count": 28,
   "metadata": {},
   "outputs": [
    {
     "name": "stdout",
     "output_type": "stream",
     "text": [
      "[[1, 1], [1, 1]]\n",
      "[[2, 2], [2, 2]]\n"
     ]
    }
   ],
   "source": [
    "mat1=[[1,1],[1,1]]\n",
    "print(mat1)\n",
    "mat2=[[2,2],[2,2]]\n",
    "print(mat2)"
   ]
  },
  {
   "cell_type": "code",
   "execution_count": 29,
   "metadata": {},
   "outputs": [],
   "source": [
    "import numpy as np\n",
    "result=np.dot(mat1,mat2)"
   ]
  },
  {
   "cell_type": "code",
   "execution_count": 30,
   "metadata": {},
   "outputs": [
    {
     "data": {
      "text/plain": [
       "array([[4, 4],\n",
       "       [4, 4]])"
      ]
     },
     "execution_count": 30,
     "metadata": {},
     "output_type": "execute_result"
    }
   ],
   "source": [
    "result"
   ]
  },
  {
   "cell_type": "code",
   "execution_count": 34,
   "metadata": {},
   "outputs": [
    {
     "data": {
      "text/plain": [
       "[[4, 4], [4, 4]]"
      ]
     },
     "execution_count": 34,
     "metadata": {},
     "output_type": "execute_result"
    }
   ],
   "source": [
    "cols,rows=(2,2)\n",
    "result=[[0 for x in range(cols)] for x in range(rows)]\n",
    "for i in range(len(mat1)):\n",
    "    for j in range(len(mat2[0])):\n",
    "        for k in range(len(mat1[0])):\n",
    "            result[i][j]+=mat1[i][k]*mat2[k][j]\n",
    "\n",
    "result\n"
   ]
  },
  {
   "cell_type": "code",
   "execution_count": 36,
   "metadata": {},
   "outputs": [
    {
     "data": {
      "text/plain": [
       "[[3, 3], [3, 3]]"
      ]
     },
     "execution_count": 36,
     "metadata": {},
     "output_type": "execute_result"
    }
   ],
   "source": [
    "result2=[[0 for x in range(cols)]for x in range (rows)]\n",
    "for i in range(len(mat1)):\n",
    "    for j in range(len(mat2[0])):\n",
    "        result2[i][j]=mat1[i][j]+mat2[i][j]\n",
    "result2"
   ]
  },
  {
   "cell_type": "code",
   "execution_count": 38,
   "metadata": {},
   "outputs": [
    {
     "data": {
      "text/plain": [
       "6"
      ]
     },
     "execution_count": 38,
     "metadata": {},
     "output_type": "execute_result"
    }
   ],
   "source": [
    "def nat(n):\n",
    "    if n<=1:\n",
    "        return 1\n",
    "    sum=n+nat(n-1)\n",
    "    return sum\n",
    "nat(3)\n"
   ]
  },
  {
   "cell_type": "code",
   "execution_count": 39,
   "metadata": {},
   "outputs": [
    {
     "name": "stdout",
     "output_type": "stream",
     "text": [
      "0\n",
      "1\n",
      "1\n",
      "2\n",
      "3\n"
     ]
    }
   ],
   "source": [
    "def fibonnaci(n):\n",
    "    if n<=1:\n",
    "        return n\n",
    "    else:\n",
    "        return fibonnaci(n-1)+fibonnaci(n-2)\n",
    "\n",
    "def generate_fibonaaci(n):\n",
    "     for i in range(n):\n",
    "         print(fibonnaci(i))\n",
    "    \n",
    "generate_fibonaaci(5)"
   ]
  },
  {
   "cell_type": "code",
   "execution_count": 41,
   "metadata": {},
   "outputs": [
    {
     "name": "stdout",
     "output_type": "stream",
     "text": [
      "0b1011\n",
      "0o13\n",
      "0xb\n"
     ]
    }
   ],
   "source": [
    "decimal_num=int(input(\"Enter the number\"))\n",
    "binary_num=bin(decimal_num)\n",
    "octal_num=oct(decimal_num)\n",
    "hexa_num=hex(decimal_num)\n",
    "print(binary_num)\n",
    "print(octal_num)\n",
    "print(hexa_num)"
   ]
  },
  {
   "cell_type": "code",
   "execution_count": 45,
   "metadata": {},
   "outputs": [
    {
     "name": "stdout",
     "output_type": "stream",
     "text": [
      "{1, 2, 3, 4, 5, 6, 7, 8, 9, 10}\n",
      "False\n"
     ]
    },
    {
     "data": {
      "text/plain": [
       "{1, 2, 3, 4, 5}"
      ]
     },
     "execution_count": 45,
     "metadata": {},
     "output_type": "execute_result"
    }
   ],
   "source": [
    "set1={1,2,3,4,5}\n",
    "set2={6,7,8,9,10}\n",
    " \n",
    "print(set1.union(set2))\n",
    "print(set1.issubset(set2))\n",
    "set1.difference(set2)"
   ]
  },
  {
   "cell_type": "code",
   "execution_count": 52,
   "metadata": {},
   "outputs": [
    {
     "name": "stdout",
     "output_type": "stream",
     "text": [
      "True\n"
     ]
    }
   ],
   "source": [
    "\n",
    "List=[1,2,3,3,2,1]\n",
    "\n",
    "if List==list(reversed(List)):\n",
    "      print(\"True\")\n",
    "else:\n",
    "       print(\"False\")"
   ]
  },
  {
   "cell_type": "code",
   "execution_count": 56,
   "metadata": {},
   "outputs": [
    {
     "name": "stdout",
     "output_type": "stream",
     "text": [
      "Encrypted text: Khoor Zruog\n"
     ]
    }
   ],
   "source": [
    "def caesar_encrypt(text, shift):\n",
    "    encrypted_text = \"\"\n",
    "    for char in text:\n",
    "        if char.isalpha(): \n",
    "            shifted = ord(char) + shift\n",
    "            if char.islower():\n",
    "                if shifted > ord('z'):\n",
    "                    shifted -= 26\n",
    "                elif shifted < ord('a'):\n",
    "                    shifted += 26\n",
    "            elif char.isupper():\n",
    "                if shifted > ord('Z'):\n",
    "                    shifted -= 26\n",
    "                elif shifted < ord('A'):\n",
    "                    shifted += 26\n",
    "            encrypted_text += chr(shifted)\n",
    "        else:\n",
    "            encrypted_text += char\n",
    "    return encrypted_text\n",
    "\n",
    "\n",
    "plaintext = input(\"Enter the text to encrypt: \")\n",
    "shift = int(input(\"Enter the shift value: \"))\n",
    "\n",
    "encrypted_text = caesar_encrypt(plaintext, shift)\n",
    "print(\"Encrypted text:\", encrypted_text)"
   ]
  },
  {
   "cell_type": "code",
   "execution_count": 60,
   "metadata": {},
   "outputs": [],
   "source": [
    "def genprime(m,n):\n",
    "    for i in range(m,n):\n",
    "       if chkprime(i):\n",
    "           print(i)\n",
    "def chkprime(x):\n",
    "    if x<=1:\n",
    "        return False\n",
    "    i=2\n",
    "    while i*i <=x:\n",
    "        if x%i==0:\n",
    "            return False\n",
    "        i+=1\n",
    "    return True        \n",
    "\n"
   ]
  },
  {
   "cell_type": "code",
   "execution_count": 61,
   "metadata": {},
   "outputs": [
    {
     "name": "stdout",
     "output_type": "stream",
     "text": [
      "2\n",
      "3\n",
      "5\n",
      "7\n",
      "11\n",
      "13\n",
      "17\n",
      "19\n"
     ]
    }
   ],
   "source": [
    "genprime(2,20)"
   ]
  },
  {
   "cell_type": "code",
   "execution_count": 65,
   "metadata": {},
   "outputs": [
    {
     "name": "stdout",
     "output_type": "stream",
     "text": [
      "[9, 8, 7, 6, 5, 4]\n",
      "[4, 5, 6, 7, 8, 9]\n"
     ]
    }
   ],
   "source": [
    "List1=[9,8,7,6,5,4]\n",
    "print(List1)\n",
    "for i in range(len(List1)):\n",
    "    for j in range(0,len(List1)-i-1):\n",
    "        if List1[j]>List1[j+1]:\n",
    "            List1[j],List1[j+1]=List1[j+1],List1[j]\n",
    "\n",
    "print(List1)"
   ]
  },
  {
   "cell_type": "code",
   "execution_count": null,
   "metadata": {},
   "outputs": [],
   "source": [
    "#String,array,slicing,lists,sorting,prime no,fibonaaci "
   ]
  },
  {
   "cell_type": "code",
   "execution_count": 67,
   "metadata": {},
   "outputs": [
    {
     "data": {
      "text/plain": [
       "10"
      ]
     },
     "execution_count": 67,
     "metadata": {},
     "output_type": "execute_result"
    }
   ],
   "source": [
    "List=[1,2,3,4]\n",
    "def sum(n):\n",
    "   if n==0:\n",
    "      return List[0]\n",
    "   res=List[n]+sum(n-1)\n",
    "   return res\n",
    "\n",
    "sum(len(List)-1)"
   ]
  },
  {
   "cell_type": "code",
   "execution_count": 80,
   "metadata": {},
   "outputs": [
    {
     "name": "stdout",
     "output_type": "stream",
     "text": [
      "Original list: [1, 2, 3, 4, 1, 2, 3, 4]\n",
      "List with duplicates removed: [1, 2, 3, 4]\n"
     ]
    }
   ],
   "source": [
    "def remove_duplicates(lst):\n",
    "   \n",
    "    unique_set = set(lst)\n",
    "    \n",
    "    unique_list = list(unique_set)\n",
    "    return unique_list\n",
    "\n",
    "\n",
    "original_list = [1, 2, 3, 4, 1, 2, 3, 4]\n",
    "result_list = remove_duplicates(original_list)\n",
    "print(\"Original list:\", original_list)\n",
    "print(\"List with duplicates removed:\", result_list)\n"
   ]
  },
  {
   "cell_type": "code",
   "execution_count": 85,
   "metadata": {},
   "outputs": [
    {
     "name": "stdout",
     "output_type": "stream",
     "text": [
      "[7, 6, 5, 4, 3, 2, 1]\n"
     ]
    }
   ],
   "source": [
    "List=[1,2,3,4,5,6,7]\n",
    "n=int(len(List)/2)\n",
    "i=0\n",
    "for i in range(n):\n",
    "   List[i],List[-i-1]=List[-i-1],List[i]\n",
    "print(List)"
   ]
  },
  {
   "cell_type": "code",
   "execution_count": 90,
   "metadata": {},
   "outputs": [
    {
     "name": "stdout",
     "output_type": "stream",
     "text": [
      "True\n"
     ]
    }
   ],
   "source": [
    "Str=\"malayalam\"\n",
    "\n",
    "Rev_str=Str[::-1]\n",
    "Rev_str\n",
    "\n",
    "if Str==Rev_str:\n",
    "   print(\"True\")\n",
    "else:\n",
    "   print(\"False\")"
   ]
  },
  {
   "cell_type": "code",
   "execution_count": 93,
   "metadata": {},
   "outputs": [
    {
     "data": {
      "text/plain": [
       "'Hello How are you'"
      ]
     },
     "execution_count": 93,
     "metadata": {},
     "output_type": "execute_result"
    }
   ],
   "source": [
    "Str=\"Hello! Ho,w are you!.?\"\n",
    "Punch=['!','.','?',',']\n",
    "for i in Punch:\n",
    "    Str=Str.replace(i,\"\")\n",
    "Str"
   ]
  },
  {
   "cell_type": "code",
   "execution_count": 94,
   "metadata": {},
   "outputs": [
    {
     "data": {
      "text/plain": [
       "['Apple', 'Cat', 'Youch', 'Zebra']"
      ]
     },
     "execution_count": 94,
     "metadata": {},
     "output_type": "execute_result"
    }
   ],
   "source": [
    "List=[\"Zebra\",\"Youch\",\"Cat\",\"Apple\"]\n",
    "List.sort()\n",
    "List"
   ]
  },
  {
   "cell_type": "code",
   "execution_count": 98,
   "metadata": {},
   "outputs": [
    {
     "data": {
      "text/plain": [
       "'Apple Cat Youch Zebra'"
      ]
     },
     "execution_count": 98,
     "metadata": {},
     "output_type": "execute_result"
    }
   ],
   "source": [
    "String=\"Zebra Youch Cat Apple\"\n",
    "List=String.split()\n",
    "List.sort()\n",
    "String=' '.join(List)\n",
    "String"
   ]
  },
  {
   "cell_type": "code",
   "execution_count": 99,
   "metadata": {},
   "outputs": [
    {
     "name": "stdout",
     "output_type": "stream",
     "text": [
      "{'A': 5, 'B': 5, 'C': 4}\n"
     ]
    }
   ],
   "source": [
    "String=\"A B C A B C A B B B C C A A\"\n",
    "List=String.split()\n",
    "my_dict=dict()\n",
    "for i in List:\n",
    "    if i not in my_dict:\n",
    "        my_dict[i]=1\n",
    "    else:\n",
    "        my_dict[i]+=1\n",
    "print(my_dict)"
   ]
  },
  {
   "cell_type": "code",
   "execution_count": 100,
   "metadata": {},
   "outputs": [],
   "source": [
    "import re"
   ]
  },
  {
   "cell_type": "code",
   "execution_count": 101,
   "metadata": {},
   "outputs": [
    {
     "data": {
      "text/plain": [
       "'This is a example text with example data.'"
      ]
     },
     "execution_count": 101,
     "metadata": {},
     "output_type": "execute_result"
    }
   ],
   "source": [
    "text = \"This is a sample text with sample data.\"\n",
    "pattern = r'sample'\n",
    "replacement = 'example'\n",
    "res=re.sub(pattern,replacement,text)\n",
    "res"
   ]
  },
  {
   "cell_type": "code",
   "execution_count": 102,
   "metadata": {},
   "outputs": [],
   "source": [
    "import os"
   ]
  },
  {
   "cell_type": "code",
   "execution_count": 103,
   "metadata": {},
   "outputs": [
    {
     "name": "stdout",
     "output_type": "stream",
     "text": [
      "ALLUSERSPROFILE : C:\\ProgramData\n",
      "APPDATA : C:\\Users\\kashi\\AppData\\Roaming\n",
      "CHROME_CRASHPAD_PIPE_NAME : \\\\.\\pipe\\crashpad_18800_SJMRUBYGSYHWHQOZ\n",
      "COMMONPROGRAMFILES : C:\\Program Files\\Common Files\n",
      "COMMONPROGRAMFILES(X86) : C:\\Program Files (x86)\\Common Files\n",
      "COMMONPROGRAMW6432 : C:\\Program Files\\Common Files\n",
      "COMPUTERNAME : KASHIK\n",
      "COMSPEC : C:\\Windows\\system32\\cmd.exe\n",
      "CONDA_DEFAULT_ENV : base\n",
      "CONDA_EXE : C:\\Users\\kashi\\anaconda3\\Scripts\\conda.exe\n",
      "CONDA_PREFIX : C:\\Users\\kashi\\anaconda3\n",
      "CONDA_PROMPT_MODIFIER : (base) \n",
      "CONDA_PYTHON_EXE : C:\\Users\\kashi\\anaconda3\\python.exe\n",
      "CONDA_ROOT : C:\\Users\\kashi\\anaconda3\n",
      "CONDA_SHLVL : 1\n",
      "DRIVERDATA : C:\\Windows\\System32\\Drivers\\DriverData\n",
      "EFC_2192 : 1\n",
      "ELECTRON_RUN_AS_NODE : 1\n",
      "FPS_BROWSER_APP_PROFILE_STRING : Internet Explorer\n",
      "FPS_BROWSER_USER_PROFILE_STRING : Default\n",
      "HOMEDRIVE : C:\n",
      "HOMEPATH : \\Users\\kashi\n",
      "JPY_INTERRUPT_EVENT : 888\n",
      "LOCALAPPDATA : C:\\Users\\kashi\\AppData\\Local\n",
      "LOGONSERVER : \\\\KASHIK\n",
      "NUMBER_OF_PROCESSORS : 12\n",
      "ONEDRIVE : C:\\Users\\kashi\\OneDrive - Manipal Academy of Higher Education\n",
      "ONEDRIVECOMMERCIAL : C:\\Users\\kashi\\OneDrive - Manipal Academy of Higher Education\n",
      "ORIGINAL_XDG_CURRENT_DESKTOP : undefined\n",
      "OS : Windows_NT\n",
      "PATH : c:\\Users\\kashi\\anaconda3;C:\\Users\\kashi\\anaconda3;C:\\Users\\kashi\\anaconda3\\Library\\mingw-w64\\bin;C:\\Users\\kashi\\anaconda3\\Library\\usr\\bin;C:\\Users\\kashi\\anaconda3\\Library\\bin;C:\\Users\\kashi\\anaconda3\\Scripts;C:\\Users\\kashi\\anaconda3\\bin;C:\\Users\\kashi\\anaconda3\\condabin;C:\\Program Files\\Common Files\\Oracle\\Java\\javapath;C:\\app\\kashi\\product\\21c\\dbhomeXE\\bin;C:\\Windows\\system32;C:\\Windows;C:\\Windows\\System32\\Wbem;C:\\Windows\\System32\\WindowsPowerShell\\v1.0;C:\\Windows\\System32\\OpenSSH;C:\\Program Files (x86)\\NVIDIA Corporation\\PhysX\\Common;C:\\Program Files\\NVIDIA Corporation\\NVIDIA NvDLISR;C:\\Program Files\\PuTTY;C:\\MinGW\\bin;C:\\Program Files\\Microsoft\\Web Platform Installer;C:\\Program Files (x86)\\Microsoft ASP.NET\\ASP.NET Web Pages\\v1.0;C:\\Program Files\\Microsoft SQL Server\\150\\Tools\\Binn;C:\\Program Files\\Microsoft SQL Server\\Client SDK\\ODBC\\170\\Tools\\Binn;C:\\Program Files (x86)\\AOMEI\\AOMEI Backupper\\7.3.3;C:\\Program Files\\dotnet;C:\\Program Files\\nodejs;C:\\Users\\kashi\\AppData\\Roaming\\Python\\Python311\\Scripts;C:\\Users\\kashi\\anaconda3;C:\\Users\\kashi\\anaconda3\\envs\\proenv;C:\\Users\\kashi\\anaconda3\\Scripts;C:\\Users\\kashi\\AppData\\Local\\Microsoft\\WindowsApps;C:\\MinGW\\bin;C:\\Users\\kashi\\.dotnet\\tools;C:\\Users\\kashi\\AppData\\Roaming\\npm;C:\\Program Files\\nodejs;C:\\Users\\kashi\\AppData\\Local\\Programs\\Microsoft VS Code\\bin;C:\\Users\\kashi\\AppData\\Roaming\\Python\\Python311\\Scripts;C:\\Users\\kashi\\anaconda3;C:\\Users\\kashi\\anaconda3\\envs\\proenv;C:\\Users\\kashi\\anaconda3\\Scripts;.\n",
      "PATHEXT : .COM;.EXE;.BAT;.CMD;.VBS;.VBE;.JS;.JSE;.WSF;.WSH;.MSC\n",
      "PROCESSOR_ARCHITECTURE : AMD64\n",
      "PROCESSOR_IDENTIFIER : Intel64 Family 6 Model 165 Stepping 2, GenuineIntel\n",
      "PROCESSOR_LEVEL : 6\n",
      "PROCESSOR_REVISION : a502\n",
      "PROGRAMDATA : C:\\ProgramData\n",
      "PROGRAMFILES : C:\\Program Files\n",
      "PROGRAMFILES(X86) : C:\\Program Files (x86)\n",
      "PROGRAMW6432 : C:\\Program Files\n",
      "PROMPT : (base) $P$G\n",
      "PSMODULEPATH : C:\\Program Files\\WindowsPowerShell\\Modules;C:\\Windows\\system32\\WindowsPowerShell\\v1.0\\Modules\n",
      "PUBLIC : C:\\Users\\Public\n",
      "PYDEVD_IPYTHON_COMPATIBLE_DEBUGGING : 1\n",
      "PYTHONIOENCODING : utf-8\n",
      "PYTHONUNBUFFERED : 1\n",
      "PYTHONUTF8 : 1\n",
      "SESSIONNAME : Console\n",
      "SSL_CERT_FILE : C:\\Users\\kashi\\anaconda3\\Library\\ssl\\cacert.pem\n",
      "SYSTEMDRIVE : C:\n",
      "SYSTEMROOT : C:\\Windows\n",
      "TEMP : C:\\Users\\kashi\\AppData\\Local\\Temp\n",
      "TMP : C:\\Users\\kashi\\AppData\\Local\\Temp\n",
      "USERDOMAIN : KASHIK\n",
      "USERDOMAIN_ROAMINGPROFILE : KASHIK\n",
      "USERNAME : kashi\n",
      "USERPROFILE : C:\\Users\\kashi\n",
      "VBOX_MSI_INSTALL_PATH : C:\\Program Files\\Oracle\\VirtualBox\\\n",
      "VS110COMNTOOLS : C:\\Program Files (x86)\\Microsoft Visual Studio 11.0\\Common7\\Tools\\\n",
      "VSCODE_AMD_ENTRYPOINT : vs/workbench/api/node/extensionHostProcess\n",
      "VSCODE_CODE_CACHE_PATH : C:\\Users\\kashi\\AppData\\Roaming\\Code\\CachedData\\903b1e9d8990623e3d7da1df3d33db3e42d80eda\n",
      "VSCODE_CRASH_REPORTER_PROCESS_TYPE : extensionHost\n",
      "VSCODE_CWD : C:\\Users\\kashi\\AppData\\Local\\Programs\\Microsoft VS Code\n",
      "VSCODE_HANDLES_UNCAUGHT_ERRORS : true\n",
      "VSCODE_IPC_HOOK : \\\\.\\pipe\\8f13c1ee-1.86.2-main-sock\n",
      "VSCODE_NLS_CONFIG : {\"locale\":\"en-us\",\"osLocale\":\"en-in\",\"availableLanguages\":{},\"_languagePackSupport\":true}\n",
      "VSCODE_PID : 18800\n",
      "WINDIR : C:\\Windows\n",
      "_CONDA_OLD_CHCP : 850\n",
      "__CONDA_OPENSLL_CERT_FILE_SET : \"1\"\n",
      "PYDEVD_USE_FRAME_EVAL : NO\n",
      "TERM : xterm-color\n",
      "CLICOLOR : 1\n",
      "FORCE_COLOR : 1\n",
      "CLICOLOR_FORCE : 1\n",
      "PAGER : cat\n",
      "GIT_PAGER : cat\n",
      "MPLBACKEND : module://matplotlib_inline.backend_inline\n"
     ]
    }
   ],
   "source": [
    "env_vars = os.environ\n",
    "for var in env_vars:\n",
    "    print(var, \":\", env_vars[var])"
   ]
  },
  {
   "cell_type": "code",
   "execution_count": 110,
   "metadata": {},
   "outputs": [
    {
     "data": {
      "text/plain": [
       "['Texas']"
      ]
     },
     "execution_count": 110,
     "metadata": {},
     "output_type": "execute_result"
    }
   ],
   "source": [
    "import re\n",
    "\n",
    "# Define the variable 'states'\n",
    "states = \"Mississippi Alabama Texas Massachusetts Kansas\"\n",
    "\n",
    "# Initialize the list 'statesList'\n",
    "statesList = []\n",
    "\n",
    "# a) Search for a word in 'states' that ends in 'xas'. Store this word in element 0 of 'statesList'\n",
    "pattern_a = r'\\b\\w*xas\\b'\n",
    "match_a = re.search(pattern_a, states)\n",
    "if match_a:\n",
    "    statesList.append(match_a.group(0))\n",
    "statesList"
   ]
  },
  {
   "cell_type": "code",
   "execution_count": 112,
   "metadata": {},
   "outputs": [
    {
     "data": {
      "text/plain": [
       "['Texas', 'Kansas']"
      ]
     },
     "execution_count": 112,
     "metadata": {},
     "output_type": "execute_result"
    }
   ],
   "source": [
    "#b)\n",
    "pattern_b=r'\\bK\\w*s\\b'\n",
    "match_b=re.search(pattern_b,states)\n",
    "if match_b:\n",
    "    statesList.append(match_b.group(0))\n",
    "statesList"
   ]
  },
  {
   "cell_type": "code",
   "execution_count": 113,
   "metadata": {},
   "outputs": [
    {
     "data": {
      "text/plain": [
       "['Texas', 'Kansas', 'Massachusetts']"
      ]
     },
     "execution_count": 113,
     "metadata": {},
     "output_type": "execute_result"
    }
   ],
   "source": [
    "pattern_c=r'\\bM\\w*s\\b'\n",
    "match_c=re.search(pattern_c,states)\n",
    "if match_c:\n",
    "    statesList.append(match_c.group(0))\n",
    "statesList"
   ]
  },
  {
   "cell_type": "code",
   "execution_count": 118,
   "metadata": {},
   "outputs": [
    {
     "data": {
      "text/plain": [
       "['Texas', 'Kansas', 'Massachusetts', 'Alabama']"
      ]
     },
     "execution_count": 118,
     "metadata": {},
     "output_type": "execute_result"
    }
   ],
   "source": [
    "pattern_d=re.compile(r'\\b\\w*a\\b',re.I)\n",
    "match_d=pattern_d.search(states)\n",
    "if match_d:\n",
    "    statesList.append(match_d.group(0))\n",
    "statesList"
   ]
  },
  {
   "cell_type": "code",
   "execution_count": 119,
   "metadata": {},
   "outputs": [
    {
     "data": {
      "text/plain": [
       "['Texas', 'Kansas', 'Massachusetts', 'Alabama', 'Mississippi']"
      ]
     },
     "execution_count": 119,
     "metadata": {},
     "output_type": "execute_result"
    }
   ],
   "source": [
    "pattern_d=re.compile(r'\\bM\\w*\\b',re.I)\n",
    "match_d=pattern_d.search(states)\n",
    "if match_d:\n",
    "    statesList.append(match_d.group(0))\n",
    "statesList"
   ]
  },
  {
   "cell_type": "code",
   "execution_count": 131,
   "metadata": {},
   "outputs": [
    {
     "data": {
      "text/plain": [
       "[121, 45678987654, 3245, 345543, 5674]"
      ]
     },
     "execution_count": 131,
     "metadata": {},
     "output_type": "execute_result"
    }
   ],
   "source": [
    "size=int(input(\"Input the no of ele\"))\n",
    "List=list()\n",
    "for i in range(size):\n",
    "   val=int(input(\"Input the number\"))\n",
    "   List.append(val)\n",
    "List"
   ]
  },
  {
   "cell_type": "code",
   "execution_count": 132,
   "metadata": {},
   "outputs": [],
   "source": [
    "def chkpalin(i):   \n",
    "    val=str(i)\n",
    "    rev=int(val[::-1])\n",
    "    \n",
    "    if rev==i:\n",
    "        return True\n",
    "    else:\n",
    "        return False\n"
   ]
  },
  {
   "cell_type": "code",
   "execution_count": 133,
   "metadata": {},
   "outputs": [
    {
     "name": "stdout",
     "output_type": "stream",
     "text": [
      "121\n",
      "45678987654\n",
      "345543\n",
      "3\n"
     ]
    }
   ],
   "source": [
    "count=0\n",
    "for i in List:\n",
    "    if chkpalin(i):\n",
    "        count+=1\n",
    "        print(i)\n",
    "print(count)\n",
    " \n",
    "\n"
   ]
  },
  {
   "cell_type": "markdown",
   "metadata": {},
   "source": [
    " Func starts with def\n",
    "\n",
    "for i in range()\n",
    "\n",
    "how to reverse?\n",
    "\n",
    "List-> list(reversed(list_name))\n",
    "\n",
    "Number-> str_int=str(int_num)\n",
    "         rev=int(str_int[::-1])\n",
    "\n",
    "         \n",
    "String-> rev=str[::-1]"
   ]
  },
  {
   "cell_type": "markdown",
   "metadata": {},
   "source": []
  },
  {
   "cell_type": "markdown",
   "metadata": {},
   "source": [
    "pattern_a = r'\\b\\w*xas\\b'\n",
    "\n",
    "match_a = re.search(pattern_a, states)\n",
    "\n",
    "if match_a:\n",
    "\n",
    "    statesList.append(match_a.group(0))\n",
    "    \n",
    "statesList"
   ]
  },
  {
   "cell_type": "markdown",
   "metadata": {},
   "source": []
  },
  {
   "cell_type": "markdown",
   "metadata": {},
   "source": [
    "Use split to divide string into words\n",
    "\n",
    "and ''.join(list) to get string back\n",
    "\n",
    "Use list to split into words\n",
    " list(str_name)"
   ]
  },
  {
   "cell_type": "code",
   "execution_count": 141,
   "metadata": {},
   "outputs": [
    {
     "data": {
      "text/plain": [
       "['H', 'e', 'l', 'l', 'o', ' ', 'W', 'o', 'r', 'l', 'd', '!']"
      ]
     },
     "execution_count": 141,
     "metadata": {},
     "output_type": "execute_result"
    }
   ],
   "source": [
    "String=\"Hello World!\"\n",
    "len(String)\n",
    "list(String)"
   ]
  },
  {
   "cell_type": "code",
   "execution_count": 152,
   "metadata": {},
   "outputs": [
    {
     "data": {
      "text/plain": [
       "'!dlroW olleH'"
      ]
     },
     "execution_count": 152,
     "metadata": {},
     "output_type": "execute_result"
    }
   ],
   "source": [
    "String=\"Hello World!\"\n",
    "rev_str=String[::-1]\n",
    "rev_str"
   ]
  },
  {
   "cell_type": "code",
   "execution_count": 154,
   "metadata": {},
   "outputs": [
    {
     "data": {
      "text/plain": [
       "'Hll Wrld!'"
      ]
     },
     "execution_count": 154,
     "metadata": {},
     "output_type": "execute_result"
    }
   ],
   "source": [
    "vowels=['a','e','i','o','u']\n",
    "for i in vowels:\n",
    "  new=String.replace(i,\"\")\n",
    "new"
   ]
  },
  {
   "cell_type": "code",
   "execution_count": 167,
   "metadata": {},
   "outputs": [
    {
     "name": "stdout",
     "output_type": "stream",
     "text": [
      "Hello World! How Are You\n"
     ]
    }
   ],
   "source": [
    "String=\"Hello World! how are you\"\n",
    "List=String.split()\n",
    "i=0\n",
    "for i in range(len(List)):\n",
    "  List[i]=List[i].capitalize()\n",
    "val=\" \".join(List)\n",
    "print(val)\n"
   ]
  },
  {
   "cell_type": "code",
   "execution_count": 176,
   "metadata": {},
   "outputs": [
    {
     "name": "stdout",
     "output_type": "stream",
     "text": [
      "4\n"
     ]
    }
   ],
   "source": [
    "String=\"Hello World! how are you you you you\"\n",
    "count=0\n",
    "i=String.find(\"you\")\n",
    "while  i!=-1:\n",
    "    count+=1\n",
    "    i=String.find(\"you\",i+1)\n",
    "    \n",
    "print(count)\n",
    "    "
   ]
  },
  {
   "cell_type": "code",
   "execution_count": 177,
   "metadata": {},
   "outputs": [
    {
     "data": {
      "text/plain": [
       "'Hello World! how are'"
      ]
     },
     "execution_count": 177,
     "metadata": {},
     "output_type": "execute_result"
    }
   ],
   "source": [
    "String=\"            Hello World! how are        \"\n",
    "str1=String.lstrip()\n",
    "str1.rstrip()"
   ]
  },
  {
   "cell_type": "code",
   "execution_count": 178,
   "metadata": {},
   "outputs": [
    {
     "data": {
      "text/plain": [
       "'fine am i you are how Hello'"
      ]
     },
     "execution_count": 178,
     "metadata": {},
     "output_type": "execute_result"
    }
   ],
   "source": [
    "Str=\"Hello how are you i am fine\"\n",
    "List=Str.split()\n",
    "rev_list=list(reversed(List))\n",
    "rev_str=\" \".join(rev_list)\n",
    "rev_str"
   ]
  },
  {
   "cell_type": "code",
   "execution_count": 180,
   "metadata": {},
   "outputs": [
    {
     "data": {
      "text/plain": [
       "'He'"
      ]
     },
     "execution_count": 180,
     "metadata": {},
     "output_type": "execute_result"
    }
   ],
   "source": [
    "List=[\"Hello\",\"Hemo\",'Hellome',\"Hellous\"]\n",
    "prefix=List[0]\n",
    "for Str in List[1:]:\n",
    "    while Str[:len(prefix)]!=prefix:\n",
    "        prefix=prefix[:-1]\n",
    "        \n",
    "\n",
    "prefix\n"
   ]
  },
  {
   "cell_type": "code",
   "execution_count": null,
   "metadata": {},
   "outputs": [],
   "source": []
  }
 ],
 "metadata": {
  "kernelspec": {
   "display_name": "proenv",
   "language": "python",
   "name": "python3"
  },
  "language_info": {
   "codemirror_mode": {
    "name": "ipython",
    "version": 3
   },
   "file_extension": ".py",
   "mimetype": "text/x-python",
   "name": "python",
   "nbconvert_exporter": "python",
   "pygments_lexer": "ipython3",
   "version": "3.11.7"
  }
 },
 "nbformat": 4,
 "nbformat_minor": 2
}
