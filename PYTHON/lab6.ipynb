{
 "cells": [
  {
   "cell_type": "code",
   "execution_count": 1,
   "metadata": {},
   "outputs": [
    {
     "name": "stdout",
     "output_type": "stream",
     "text": [
      "True\n"
     ]
    }
   ],
   "source": [
    "s = \"radar\"\n",
    "is_palindrome = s == s[::-1]\n",
    "print(is_palindrome)\n"
   ]
  },
  {
   "cell_type": "code",
   "execution_count": 2,
   "metadata": {},
   "outputs": [
    {
     "name": "stdout",
     "output_type": "stream",
     "text": [
      "Hello world Its a beautiful day\n"
     ]
    }
   ],
   "source": [
    "import string\n",
    "\n",
    "s = \"Hello, world! It's a beautiful day.\"\n",
    "cleaned = s.translate(str.maketrans('', '', string.punctuation))\n",
    "print(cleaned)\n"
   ]
  },
  {
   "cell_type": "code",
   "execution_count": 3,
   "metadata": {},
   "outputs": [
    {
     "name": "stdout",
     "output_type": "stream",
     "text": [
      "again and and hello hello makes perfect practice world world\n"
     ]
    }
   ],
   "source": [
    "s = \"hello world and practice makes perfect and hello world again\"\n",
    "words = s.split()\n",
    "words.sort()\n",
    "print(' '.join(words))\n"
   ]
  },
  {
   "cell_type": "code",
   "execution_count": 4,
   "metadata": {},
   "outputs": [
    {
     "name": "stdout",
     "output_type": "stream",
     "text": [
      "Dear John Doe,\n",
      "Your email is john@example.com.\n",
      "Dear Jane Smith,\n",
      "Your email is jane@example.com.\n"
     ]
    }
   ],
   "source": [
    "names = [\"John Doe\", \"Jane Smith\"]\n",
    "addresses = [\"john@example.com\", \"jane@example.com\"]\n",
    "mail_template = \"Dear {name},\\nYour email is {email}.\"\n",
    "\n",
    "for name, email in zip(names, addresses):\n",
    "    mail = mail_template.format(name=name, email=email)\n",
    "    print(mail)\n"
   ]
  },
  {
   "cell_type": "code",
   "execution_count": 5,
   "metadata": {},
   "outputs": [
    {
     "name": "stdout",
     "output_type": "stream",
     "text": [
      "Visit Google, the most innovative AI lab.\n"
     ]
    }
   ],
   "source": [
    "import re\n",
    "\n",
    "text = \"Visit OpenAI, the most innovative AI lab.\"\n",
    "text = re.sub('OpenAI', 'Google', text)\n",
    "print(text)\n"
   ]
  },
  {
   "cell_type": "code",
   "execution_count": 6,
   "metadata": {},
   "outputs": [
    {
     "name": "stdout",
     "output_type": "stream",
     "text": [
      "ALLUSERSPROFILE: C:\\ProgramData\n",
      "APPDATA: C:\\Users\\kashi\\AppData\\Roaming\n",
      "CHROME_CRASHPAD_PIPE_NAME: \\\\.\\pipe\\crashpad_22796_UOSLBDQWQVCCIVQC\n",
      "COMMONPROGRAMFILES: C:\\Program Files\\Common Files\n",
      "COMMONPROGRAMFILES(X86): C:\\Program Files (x86)\\Common Files\n",
      "COMMONPROGRAMW6432: C:\\Program Files\\Common Files\n",
      "COMPUTERNAME: KASHIK\n",
      "COMSPEC: C:\\Windows\\system32\\cmd.exe\n",
      "CONDA_DEFAULT_ENV: proenv\n",
      "CONDA_EXE: C:\\Users\\kashi\\anaconda3\\Scripts\\conda.exe\n",
      "CONDA_PREFIX: C:\\Users\\kashi\\anaconda3\\envs\\proenv\n",
      "CONDA_PROMPT_MODIFIER: (proenv) \n",
      "CONDA_PYTHON_EXE: C:\\Users\\kashi\\anaconda3\\python.exe\n",
      "CONDA_ROOT: C:\\Users\\kashi\\anaconda3\n",
      "CONDA_SHLVL: 1\n",
      "DRIVERDATA: C:\\Windows\\System32\\Drivers\\DriverData\n",
      "EFC_4228: 1\n",
      "ELECTRON_RUN_AS_NODE: 1\n",
      "HOMEDRIVE: C:\n",
      "HOMEPATH: \\Users\\kashi\n",
      "LOCALAPPDATA: C:\\Users\\kashi\\AppData\\Local\n",
      "LOGONSERVER: \\\\KASHIK\n",
      "NUMBER_OF_PROCESSORS: 12\n",
      "ONEDRIVE: C:\\Users\\kashi\\OneDrive - Manipal Academy of Higher Education\n",
      "ONEDRIVECOMMERCIAL: C:\\Users\\kashi\\OneDrive - Manipal Academy of Higher Education\n",
      "ORIGINAL_XDG_CURRENT_DESKTOP: undefined\n",
      "OS: Windows_NT\n",
      "PATH: c:\\Users\\kashi\\anaconda3\\envs\\proenv;C:\\Users\\kashi\\anaconda3\\envs\\proenv;C:\\Users\\kashi\\anaconda3\\envs\\proenv\\Library\\mingw-w64\\bin;C:\\Users\\kashi\\anaconda3\\envs\\proenv\\Library\\usr\\bin;C:\\Users\\kashi\\anaconda3\\envs\\proenv\\Library\\bin;C:\\Users\\kashi\\anaconda3\\envs\\proenv\\Scripts;C:\\Users\\kashi\\anaconda3\\envs\\proenv\\bin;C:\\Users\\kashi\\anaconda3\\condabin;C:\\Program Files\\Common Files\\Oracle\\Java\\javapath;C:\\app\\kashi\\product\\21c\\dbhomeXE\\bin;C:\\Windows\\system32;C:\\Windows;C:\\Windows\\System32\\Wbem;C:\\Windows\\System32\\WindowsPowerShell\\v1.0;C:\\Windows\\System32\\OpenSSH;C:\\Program Files (x86)\\NVIDIA Corporation\\PhysX\\Common;C:\\Program Files\\NVIDIA Corporation\\NVIDIA NvDLISR;C:\\Program Files\\PuTTY;C:\\Program Files\\Microsoft\\Web Platform Installer;C:\\Program Files (x86)\\Microsoft ASP.NET\\ASP.NET Web Pages\\v1.0;C:\\Program Files\\Microsoft SQL Server\\150\\Tools\\Binn;C:\\Program Files\\Microsoft SQL Server\\Client SDK\\ODBC\\170\\Tools\\Binn;C:\\Program Files\\dotnet;C:\\Program Files\\nodejs;C:\\Users\\kashi\\AppData\\Roaming\\Python\\Python311\\Scripts;C:\\Users\\kashi\\anaconda3;C:\\Users\\kashi\\anaconda3\\envs\\proenv;C:\\Users\\kashi\\anaconda3\\Scripts;C:\\msys64\\ucrt64\\bin;C:\\Users\\kashi\\AppData\\Local\\Microsoft\\WindowsApps;C:\\Users\\kashi\\.dotnet\\tools;C:\\Users\\kashi\\AppData\\Roaming\\npm;C:\\Program Files\\nodejs;C:\\Users\\kashi\\AppData\\Local\\Programs\\Microsoft VS Code\\bin;C:\\Users\\kashi\\AppData\\Roaming\\Python\\Python311\\Scripts;C:\\Users\\kashi\\anaconda3;C:\\Users\\kashi\\anaconda3\\envs\\proenv;C:\\Users\\kashi\\anaconda3\\Scripts;C:\\Users\\kashi\\dev\\flutter\\bin;C:\\msys64\\ucrt64\\bin;C:\\Users\\kashi\\AppData\\Local\\GitHubDesktop\\bin\n",
      "PATHEXT: .COM;.EXE;.BAT;.CMD;.VBS;.VBE;.JS;.JSE;.WSF;.WSH;.MSC\n",
      "PROCESSOR_ARCHITECTURE: AMD64\n",
      "PROCESSOR_IDENTIFIER: Intel64 Family 6 Model 165 Stepping 2, GenuineIntel\n",
      "PROCESSOR_LEVEL: 6\n",
      "PROCESSOR_REVISION: a502\n",
      "PROGRAMDATA: C:\\ProgramData\n",
      "PROGRAMFILES: C:\\Program Files\n",
      "PROGRAMFILES(X86): C:\\Program Files (x86)\n",
      "PROGRAMW6432: C:\\Program Files\n",
      "PROMPT: (proenv) $P$G\n",
      "PSMODULEPATH: C:\\Program Files\\WindowsPowerShell\\Modules;C:\\Windows\\system32\\WindowsPowerShell\\v1.0\\Modules\n",
      "PUBLIC: C:\\Users\\Public\n",
      "PYDEVD_IPYTHON_COMPATIBLE_DEBUGGING: 1\n",
      "PYTHONIOENCODING: utf-8\n",
      "PYTHONUNBUFFERED: 1\n",
      "PYTHONUTF8: 1\n",
      "SESSIONNAME: Console\n",
      "SSL_CERT_FILE: C:\\Users\\kashi\\anaconda3\\envs\\proenv\\Library\\ssl\\cacert.pem\n",
      "SYSTEMDRIVE: C:\n",
      "SYSTEMROOT: C:\\Windows\n",
      "TEMP: C:\\Users\\kashi\\AppData\\Local\\Temp\n",
      "TMP: C:\\Users\\kashi\\AppData\\Local\\Temp\n",
      "USERDOMAIN: KASHIK\n",
      "USERDOMAIN_ROAMINGPROFILE: KASHIK\n",
      "USERNAME: kashi\n",
      "USERPROFILE: C:\\Users\\kashi\n",
      "VBOX_MSI_INSTALL_PATH: C:\\Program Files\\Oracle\\VirtualBox\\\n",
      "VS110COMNTOOLS: C:\\Program Files (x86)\\Microsoft Visual Studio 11.0\\Common7\\Tools\\\n",
      "VSCODE_AMD_ENTRYPOINT: vs/workbench/api/node/extensionHostProcess\n",
      "VSCODE_CODE_CACHE_PATH: C:\\Users\\kashi\\AppData\\Roaming\\Code\\CachedData\\863d2581ecda6849923a2118d93a088b0745d9d6\n",
      "VSCODE_CRASH_REPORTER_PROCESS_TYPE: extensionHost\n",
      "VSCODE_CWD: C:\\Users\\kashi\\AppData\\Local\\Programs\\Microsoft VS Code\n",
      "VSCODE_HANDLES_UNCAUGHT_ERRORS: true\n",
      "VSCODE_IPC_HOOK: \\\\.\\pipe\\8f13c1ee-1.87.2-main-sock\n",
      "VSCODE_NLS_CONFIG: {\"locale\":\"en-us\",\"osLocale\":\"en-in\",\"availableLanguages\":{},\"_languagePackSupport\":true}\n",
      "VSCODE_PID: 22796\n",
      "WINDIR: C:\\Windows\n",
      "_CONDA_OLD_CHCP: 850\n",
      "__CONDA_OPENSLL_CERT_FILE_SET: \"1\"\n",
      "PYDEVD_USE_FRAME_EVAL: NO\n",
      "TERM: xterm-color\n",
      "CLICOLOR: 1\n",
      "FORCE_COLOR: 1\n",
      "CLICOLOR_FORCE: 1\n",
      "PAGER: cat\n",
      "GIT_PAGER: cat\n",
      "MPLBACKEND: module://matplotlib_inline.backend_inline\n"
     ]
    }
   ],
   "source": [
    "import os\n",
    "\n",
    "env_vars = os.environ\n",
    "for key, value in env_vars.items():\n",
    "    print(f\"{key}: {value}\")\n"
   ]
  },
  {
   "cell_type": "code",
   "execution_count": null,
   "metadata": {},
   "outputs": [],
   "source": []
  }
 ],
 "metadata": {
  "kernelspec": {
   "display_name": "proenv",
   "language": "python",
   "name": "python3"
  },
  "language_info": {
   "codemirror_mode": {
    "name": "ipython",
    "version": 3
   },
   "file_extension": ".py",
   "mimetype": "text/x-python",
   "name": "python",
   "nbconvert_exporter": "python",
   "pygments_lexer": "ipython3",
   "version": "3.11.7"
  }
 },
 "nbformat": 4,
 "nbformat_minor": 2
}
