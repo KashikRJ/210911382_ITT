{
 "cells": [
  {
   "cell_type": "code",
   "execution_count": 2,
   "metadata": {},
   "outputs": [],
   "source": [
    "import sqlite3\n",
    "\n",
    "# Connect to SQLite database (or create it if it doesn't exist)\n",
    "conn = sqlite3.connect('student_records.db')\n",
    "c = conn.cursor()\n",
    "\n",
    "# Create table\n",
    "c.execute('''CREATE TABLE IF NOT EXISTS students\n",
    "             (student_id INTEGER PRIMARY KEY, reg_no TEXT, branch TEXT, semester INTEGER,\n",
    "              section TEXT, cgpa REAL, email TEXT)''')\n",
    "\n",
    "# Commit the changes and close the connection\n",
    "conn.commit()\n",
    "conn.close()\n"
   ]
  },
  {
   "cell_type": "code",
   "execution_count": 2,
   "metadata": {},
   "outputs": [
    {
     "name": "stdout",
     "output_type": "stream",
     "text": [
      "(15, 'REG156', 'CS', 6, 'B', 9.9, 'student15@example.com')\n",
      "(7, 'REG129', 'ECE', 3, 'G', 9.4, 'student7@example.com')\n",
      "(3, 'REG125', 'EE', 2, 'C', 9.1, 'student3@example.com')\n",
      "(12, 'REG134', 'CE', 5, 'D', 9.0, 'student12@example.com')\n",
      "(9, 'REG131', 'CS', 7, 'A', 8.6, 'student9@example.com')\n",
      "(4, 'REG126', 'ME', 4, 'D', 8.2, 'student4@example.com')\n",
      "(8, 'REG130', 'BT', 5, 'H', 7.9, 'student8@example.com')\n",
      "(5, 'REG127', 'CE', 6, 'E', 7.5, 'student5@example.com')\n",
      "(10, 'REG132', 'IT', 4, 'B', 7.2, 'student10@example.com')\n",
      "(2, 'REG124', 'IT', 5, 'B', 7.0, 'student2@example.com')\n",
      "(6, 'REG128', 'AE', 1, 'F', 6.8, 'student6@example.com')\n",
      "(11, 'REG133', 'ME', 2, 'C', 6.5, 'student11@example.com')\n"
     ]
    }
   ],
   "source": [
    "import sqlite3\n",
    "def display_sorted_records():\n",
    "    conn = sqlite3.connect('student_records.db')\n",
    "    c = conn.cursor()\n",
    "    \n",
    "    # Sort by CGPA for example; you can sort by any column\n",
    "    c.execute('select * From sTUDENTS Order By cgpa Desc')\n",
    "    records = c.fetchall()\n",
    "    \n",
    "    for row in records:\n",
    "        print(row)\n",
    "    \n",
    "    conn.close()\n",
    "\n",
    "display_sorted_records()\n"
   ]
  },
  {
   "cell_type": "code",
   "execution_count": 6,
   "metadata": {},
   "outputs": [
    {
     "name": "stdout",
     "output_type": "stream",
     "text": [
      "Email already exists.\n"
     ]
    }
   ],
   "source": [
    "def register_student(student_id, reg_no, branch, semester, section, cgpa, email):\n",
    "    conn = sqlite3.connect('student_records.db')\n",
    "    c = conn.cursor()\n",
    "    \n",
    "    # Check if the email already exists\n",
    "    c.execute('SELECT * FROM students WHERE email = ?', (email,))\n",
    "    if c.fetchone():\n",
    "        print(\"Email already exists.\")\n",
    "        return\n",
    "    \n",
    "    # Insert a new record\n",
    "    c.execute('INSERT INTO students VALUES (?, ?, ?, ?, ?, ?, ?)',\n",
    "              (student_id, reg_no, branch, semester, section, cgpa, email))\n",
    "    \n",
    "    conn.commit()\n",
    "    print(\"Student registered successfully.\")\n",
    "    conn.close()\n",
    "\n",
    "# Example usage\n",
    "register_student(1, \"REG123\", \"CS\", 3, \"A\", 8.5, \"student@example.com\")\n"
   ]
  },
  {
   "cell_type": "code",
   "execution_count": 23,
   "metadata": {},
   "outputs": [
    {
     "name": "stdout",
     "output_type": "stream",
     "text": [
      "Student registered successfully.\n"
     ]
    }
   ],
   "source": [
    "register_student(15, \"REG156\", \"CS\", 6, \"B\", 9.9, \"student15@example.com\")"
   ]
  },
  {
   "cell_type": "code",
   "execution_count": 4,
   "metadata": {},
   "outputs": [
    {
     "name": "stdout",
     "output_type": "stream",
     "text": [
      "Student registered successfully.\n"
     ]
    }
   ],
   "source": [
    "conn = sqlite3.connect('student_records.db')\n",
    "c = conn.cursor()\n",
    "# Insert a new record\n",
    "c.execute('INSERT INTO students VALUES (?, ?, ?, ?, ?, ?, ?)',\n",
    "              (15, \"REG156\", \"CS\", 6, \"B\", 9.9, \"student15@example.com\"))\n",
    "    \n",
    "conn.commit()\n",
    "print(\"Student registered successfully.\")\n",
    "conn.close()"
   ]
  },
  {
   "cell_type": "code",
   "execution_count": 22,
   "metadata": {},
   "outputs": [
    {
     "name": "stdout",
     "output_type": "stream",
     "text": [
      "Email already exists.\n"
     ]
    }
   ],
   "source": [
    "register_student(2, \"REG124\", \"IT\", 5, \"B\", 7, \"student2@example.com\")"
   ]
  },
  {
   "cell_type": "code",
   "execution_count": 5,
   "metadata": {},
   "outputs": [
    {
     "name": "stdout",
     "output_type": "stream",
     "text": [
      "Student registered successfully.\n",
      "Student registered successfully.\n",
      "Student registered successfully.\n",
      "Student registered successfully.\n",
      "Student registered successfully.\n",
      "Student registered successfully.\n",
      "Student registered successfully.\n",
      "Student registered successfully.\n",
      "Student registered successfully.\n",
      "Student registered successfully.\n"
     ]
    }
   ],
   "source": [
    "register_student(3, \"REG125\", \"EE\", 2, \"C\", 9.1, \"student3@example.com\")\n",
    "register_student(4, \"REG126\", \"ME\", 4, \"D\", 8.2, \"student4@example.com\")\n",
    "register_student(5, \"REG127\", \"CE\", 6, \"E\", 7.5, \"student5@example.com\")\n",
    "register_student(6, \"REG128\", \"AE\", 1, \"F\", 6.8, \"student6@example.com\")\n",
    "register_student(7, \"REG129\", \"ECE\", 3, \"G\", 9.4, \"student7@example.com\")\n",
    "register_student(8, \"REG130\", \"BT\", 5, \"H\", 7.9, \"student8@example.com\")\n",
    "register_student(9, \"REG131\", \"CS\", 7, \"A\", 8.6, \"student9@example.com\")\n",
    "register_student(10, \"REG132\", \"IT\", 4, \"B\", 7.2, \"student10@example.com\")\n",
    "register_student(11, \"REG133\", \"ME\", 2, \"C\", 6.5, \"student11@example.com\")\n",
    "register_student(12, \"REG134\", \"CE\", 5, \"D\", 9.0, \"student12@example.com\")\n"
   ]
  },
  {
   "cell_type": "code",
   "execution_count": 7,
   "metadata": {},
   "outputs": [
    {
     "name": "stdout",
     "output_type": "stream",
     "text": [
      "(1, 'REG123', 'CS', 3, 'A', 8.5, 'student@example.com')\n"
     ]
    }
   ],
   "source": [
    "def search_student(reg_no):\n",
    "    conn = sqlite3.connect('student_records.db')\n",
    "    c = conn.cursor()\n",
    "    \n",
    "    c.execute('SELECT * FROM students WHERE reg_no = ?', (reg_no,))\n",
    "    student = c.fetchone()\n",
    "    \n",
    "    if student:\n",
    "        print(student)\n",
    "    else:\n",
    "        print(\"Student not found.\")\n",
    "    \n",
    "    conn.close()\n",
    "\n",
    "# Example usage\n",
    "search_student(\"REG123\")\n"
   ]
  },
  {
   "cell_type": "code",
   "execution_count": 8,
   "metadata": {},
   "outputs": [
    {
     "name": "stdout",
     "output_type": "stream",
     "text": [
      "CGPA updated successfully.\n"
     ]
    }
   ],
   "source": [
    "def update_cgpa(student_id, new_cgpa):\n",
    "    conn = sqlite3.connect('student_records.db')\n",
    "    c = conn.cursor()\n",
    "    \n",
    "    c.execute('UPDATE students SET cgpa = ? WHERE student_id = ?', (new_cgpa, student_id))\n",
    "    \n",
    "    if c.rowcount == 0:\n",
    "        print(\"Student not found.\")\n",
    "    else:\n",
    "        print(\"CGPA updated successfully.\")\n",
    "    \n",
    "    conn.commit()\n",
    "    conn.close()\n",
    "\n",
    "# Example usage\n",
    "update_cgpa(1, 9.0)\n"
   ]
  },
  {
   "cell_type": "code",
   "execution_count": 3,
   "metadata": {},
   "outputs": [
    {
     "name": "stdout",
     "output_type": "stream",
     "text": [
      "Student deleted successfully.\n"
     ]
    }
   ],
   "source": [
    "def delete_student(student_id):\n",
    "    conn = sqlite3.connect('student_records.db')\n",
    "    c = conn.cursor()\n",
    "    \n",
    "    c.execute('DELETE FROM students WHERE student_id = ?', (student_id,))\n",
    "    conn.commit()\n",
    "    \n",
    "    if c.rowcount == 0:\n",
    "        print(\"Student not found.\")\n",
    "    else:\n",
    "        print(\"Student deleted successfully.\")\n",
    "    \n",
    "    conn.close()\n",
    "\n",
    "# Example usage\n",
    "delete_student(15)\n"
   ]
  },
  {
   "cell_type": "code",
   "execution_count": 8,
   "metadata": {},
   "outputs": [
    {
     "name": "stdout",
     "output_type": "stream",
     "text": [
      "True\n"
     ]
    }
   ],
   "source": [
    "import re\n",
    "\n",
    "def validate_customer_data(phone, email):\n",
    "    phone_pattern = re.compile(r'^\\+?1?\\d{9,15}$')  # Simplified pattern\n",
    "    email_pattern = re.compile(r'^[a-zA-Z0-9._%+-]+@[a-zA-Z0-9.-]+\\.[a-zA-Z]{2,}$')\n",
    "    \n",
    "    valid_phone = phone_pattern.match(phone) is not None\n",
    "    valid_email = email_pattern.match(email) is not None\n",
    "    \n",
    "    return valid_phone and valid_email\n",
    "\n",
    "# Example usage\n",
    "print(validate_customer_data(\"+1234567890\", \"customer@example.com\"))\n"
   ]
  },
  {
   "cell_type": "code",
   "execution_count": 12,
   "metadata": {},
   "outputs": [],
   "source": [
    "import sqlite3\n",
    "\n",
    "def create_marks_table():\n",
    "    conn = sqlite3.connect('student_records.db')\n",
    "    c = conn.cursor()\n",
    "    \n",
    "    # Create the 'marks' table\n",
    "    c.execute('''CREATE TABLE IF NOT EXISTS marks\n",
    "                 (student_id INTEGER, subject TEXT, mark INTEGER,\n",
    "                  FOREIGN KEY (student_id) REFERENCES students(student_id))''')\n",
    "    \n",
    "    conn.commit()\n",
    "    conn.close()\n",
    "\n",
    "create_marks_table()\n"
   ]
  },
  {
   "cell_type": "code",
   "execution_count": 13,
   "metadata": {},
   "outputs": [],
   "source": [
    "def populate_marks():\n",
    "    conn = sqlite3.connect('student_records.db')\n",
    "    c = conn.cursor()\n",
    "    \n",
    "    # Sample data: (student_id, subject, mark)\n",
    "    sample_marks = [\n",
    "        (1, 'Mathematics', 85),\n",
    "        (1, 'Physics', 90),\n",
    "        (1, 'Chemistry', 95),\n",
    "        (1, 'Biology', 80),\n",
    "        (1, 'English', 75)\n",
    "    ]\n",
    "    \n",
    "    # Insert the sample data into the 'marks' table\n",
    "    c.executemany('INSERT INTO marks (student_id, subject, mark) VALUES (?, ?, ?)', sample_marks)\n",
    "    \n",
    "    conn.commit()\n",
    "    conn.close()\n",
    "\n",
    "populate_marks()\n"
   ]
  },
  {
   "cell_type": "code",
   "execution_count": 14,
   "metadata": {},
   "outputs": [
    {
     "name": "stdout",
     "output_type": "stream",
     "text": [
      "Total Marks: 425, Grade: B\n"
     ]
    }
   ],
   "source": [
    "def compute_total_and_grade(student_id):\n",
    "    conn = sqlite3.connect('student_records.db')\n",
    "    c = conn.cursor()\n",
    "    \n",
    "    # Assuming a table 'marks' with columns 'student_id', 'subject', and 'mark'\n",
    "    c.execute('SELECT mark FROM marks WHERE student_id = ?', (student_id,))\n",
    "    marks = c.fetchall()\n",
    "    \n",
    "    total = sum(mark[0] for mark in marks)\n",
    "    average = total / len(marks)\n",
    "    \n",
    "    if average >= 90:\n",
    "        grade = 'A'\n",
    "    elif average >= 75:\n",
    "        grade = 'B'\n",
    "    elif average >= 60:\n",
    "        grade = 'C'\n",
    "    else:\n",
    "        grade = 'D'\n",
    "    \n",
    "    print(f\"Total Marks: {total}, Grade: {grade}\")\n",
    "    \n",
    "    conn.close()\n",
    "\n",
    "# Example usage\n",
    "compute_total_and_grade(1)\n"
   ]
  },
  {
   "cell_type": "code",
   "execution_count": 10,
   "metadata": {},
   "outputs": [
    {
     "name": "stdout",
     "output_type": "stream",
     "text": [
      "Customers added to the database.\n"
     ]
    }
   ],
   "source": [
    "import sqlite3\n",
    "\n",
    "def create_and_populate_customers():\n",
    "    conn = sqlite3.connect('customer_records.db')\n",
    "    c = conn.cursor()\n",
    "    \n",
    "    # Create the 'customers' table\n",
    "    c.execute('''CREATE TABLE IF NOT EXISTS customers\n",
    "                 (account_number INTEGER PRIMARY KEY, name TEXT, balance REAL)''')\n",
    "    \n",
    "    # Insert some sample data\n",
    "    customers = [\n",
    "        (12345, 'John Doe', 60000),\n",
    "        (67890, 'Jane Doe', 45000),\n",
    "        (11223, 'Jim Bean', 80000),\n",
    "        (44556, 'Jill Hill', 120000),\n",
    "        (77889, 'Jack Black', 55000)\n",
    "    ]\n",
    "    \n",
    "    # To prevent duplicate entries for the same account number,\n",
    "    # check if the table is empty before inserting.\n",
    "    c.execute('SELECT * FROM customers')\n",
    "    if not c.fetchall():  # Only insert if the table is empty\n",
    "        c.executemany('INSERT INTO customers VALUES (?, ?, ?)', customers)\n",
    "        conn.commit()\n",
    "        print(\"Customers added to the database.\")\n",
    "    else:\n",
    "        print(\"Database already populated.\")\n",
    "\n",
    "    conn.close()\n",
    "\n",
    "create_and_populate_customers()\n"
   ]
  },
  {
   "cell_type": "code",
   "execution_count": null,
   "metadata": {},
   "outputs": [],
   "source": [
    "import sqlite3\n",
    "\n",
    "def generate_branch_semester_report():\n",
    "    conn = sqlite3.connect('student_records.db')\n",
    "    c = conn.cursor()\n",
    "    \n",
    "    query = \"\"\"\n",
    "    SELECT \n",
    "        BranchSemester.branch, \n",
    "        BranchSemester.semester, \n",
    "        BranchSemester.avg_cgpa,\n",
    "        (SELECT COUNT(DISTINCT avg_cgpa) FROM \n",
    "            (SELECT branch, semester, AVG(cgpa) as avg_cgpa \n",
    "             FROM students \n",
    "             GROUP BY branch, semester) as RankedBranches \n",
    "         WHERE RankedBranches.avg_cgpa > BranchSemester.avg_cgpa) + 1 as Rank\n",
    "    FROM \n",
    "        (SELECT branch, semester, AVG(cgpa) as avg_cgpa \n",
    "         FROM students \n",
    "         GROUP BY branch, semester) as BranchSemester\n",
    "    ORDER BY \n",
    "        Rank;\n",
    "    \"\"\"\n",
    "    \n",
    "    c.execute(query)\n",
    "    results = c.fetchall()\n",
    "    \n",
    "    for row in results:\n",
    "        print(f\"Branch: {row[0]}, Semester: {row[1]}, Avg CGPA: {row[2]:.2f}, Rank: {row[3]}\")\n",
    "    \n",
    "    conn.close()\n",
    "\n",
    "generate_branch_semester_report()\n"
   ]
  },
  {
   "cell_type": "code",
   "execution_count": 5,
   "metadata": {},
   "outputs": [
    {
     "ename": "SyntaxError",
     "evalue": "invalid syntax (255495854.py, line 1)",
     "output_type": "error",
     "traceback": [
      "\u001b[1;36m  Cell \u001b[1;32mIn[5], line 1\u001b[1;36m\u001b[0m\n\u001b[1;33m    SELECT student_id, branch, cgpa\u001b[0m\n\u001b[1;37m           ^\u001b[0m\n\u001b[1;31mSyntaxError\u001b[0m\u001b[1;31m:\u001b[0m invalid syntax\n"
     ]
    }
   ],
   "source": [
    "SELECT student_id, branch, cgpa\n",
    "FROM (\n",
    "  SELECT student_id, branch, cgpa,\n",
    "         RANK() OVER (PARTITION BY branch ORDER BY cgpa DESC) as rank\n",
    "  FROM students\n",
    ") AS RankedStudents\n",
    "WHERE rank <= 3;\n"
   ]
  },
  {
   "cell_type": "code",
   "execution_count": null,
   "metadata": {},
   "outputs": [],
   "source": [
    "SELECT semester, avg_cgpa,\n",
    "       RANK() OVER (ORDER BY avg_cgpa DESC) as rank\n",
    "FROM (\n",
    "  SELECT semester, AVG(cgpa) as avg_cgpa\n",
    "  FROM students\n",
    "  GROUP BY semester\n",
    ") AS SemesterAverages\n",
    "ORDER BY rank;\n"
   ]
  },
  {
   "cell_type": "code",
   "execution_count": null,
   "metadata": {},
   "outputs": [],
   "source": [
    "SELECT s.student_id, s.reg_no, s.cgpa\n",
    "FROM students s\n",
    "JOIN (\n",
    "  SELECT semester, AVG(cgpa) as avg_cgpa\n",
    "  FROM students\n",
    "  GROUP BY semester\n",
    ") AS SemesterAvg ON s.semester = SemesterAvg.semester\n",
    "WHERE s.cgpa > SemesterAvg.avg_cgpa;\n"
   ]
  },
  {
   "cell_type": "code",
   "execution_count": null,
   "metadata": {},
   "outputs": [],
   "source": [
    "SELECT branch, MAX(cgpa) - MIN(cgpa) as cgpa_range\n",
    "FROM students\n",
    "GROUP BY branch;\n"
   ]
  },
  {
   "cell_type": "code",
   "execution_count": null,
   "metadata": {},
   "outputs": [],
   "source": [
    "SELECT branch, AVG(cgpa) as avg_cgpa\n",
    "FROM students\n",
    "GROUP BY branch\n",
    "HAVING AVG(cgpa) > 8.0\n",
    "ORDER BY avg_cgpa DESC;\n"
   ]
  },
  {
   "cell_type": "code",
   "execution_count": null,
   "metadata": {},
   "outputs": [],
   "source": [
    "SELECT branch, COUNT(*) as num_students_above_avg\n",
    "FROM students\n",
    "WHERE cgpa > (\n",
    "    SELECT AVG(cgpa)\n",
    "    FROM students AS s2\n",
    "    WHERE s2.branch = students.branch\n",
    ")\n",
    "GROUP BY branch;\n"
   ]
  },
  {
   "cell_type": "code",
   "execution_count": null,
   "metadata": {},
   "outputs": [],
   "source": []
  }
 ],
 "metadata": {
  "kernelspec": {
   "display_name": "proenv",
   "language": "python",
   "name": "python3"
  },
  "language_info": {
   "codemirror_mode": {
    "name": "ipython",
    "version": 3
   },
   "file_extension": ".py",
   "mimetype": "text/x-python",
   "name": "python",
   "nbconvert_exporter": "python",
   "pygments_lexer": "ipython3",
   "version": "3.11.7"
  }
 },
 "nbformat": 4,
 "nbformat_minor": 2
}
