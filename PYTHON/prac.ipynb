{
 "cells": [
  {
   "cell_type": "code",
   "execution_count": 1,
   "metadata": {},
   "outputs": [],
   "source": [
    "import sqlite3\n",
    "conn=sqlite3.connect('test.db')"
   ]
  },
  {
   "cell_type": "code",
   "execution_count": 2,
   "metadata": {},
   "outputs": [
    {
     "name": "stdout",
     "output_type": "stream",
     "text": [
      "Table created successfully\n"
     ]
    }
   ],
   "source": [
    "conn.execute(''' create table student \n",
    "             (Student_ID int primary key ,\n",
    "             Reg_No int ,\n",
    "             Branch text int ,\n",
    "             Sem int ,\n",
    "             Sec text ,\n",
    "             Cgpa Real ,\n",
    "             email text) ''')\n",
    "print(\"Table created successfully\")\n",
    "conn.commit()\n",
    "conn.close()"
   ]
  },
  {
   "cell_type": "code",
   "execution_count": 3,
   "metadata": {},
   "outputs": [],
   "source": [
    "def insert(a,b,c):   \n",
    "    conn=sqlite3.connect('test.db')\n",
    "    conn.execute('''insert into student(Student_ID,Reg_No,Branch)\n",
    "                values(?,?,?)''',(a,b,c))\n",
    "    conn.commit()\n",
    "    conn.close()"
   ]
  },
  {
   "cell_type": "code",
   "execution_count": 4,
   "metadata": {},
   "outputs": [],
   "source": [
    "insert(1,100,'IT')"
   ]
  },
  {
   "cell_type": "code",
   "execution_count": 11,
   "metadata": {},
   "outputs": [],
   "source": [
    "insert(2,100,'IT',6,'A',9.0,'abc@gmail.com')"
   ]
  },
  {
   "cell_type": "code",
   "execution_count": 1,
   "metadata": {},
   "outputs": [],
   "source": [
    "import sqlite3\n",
    "\n",
    "# Connect to the SQLite database\n",
    "conn = sqlite3.connect('test2.db')\n",
    "\n",
    "# Enable foreign key support\n",
    "conn.execute('PRAGMA foreign_keys = ON;')\n",
    "\n",
    "# Create the departments table\n",
    "conn.execute('''\n",
    "CREATE TABLE departments1 (\n",
    "    department_id INTEGER PRIMARY KEY,\n",
    "    department_name TEXT\n",
    ")''')\n",
    "\n",
    "# Create the employees table with a foreign key referencing departments\n",
    "conn.execute('''\n",
    "CREATE TABLE employees1 (\n",
    "    employee_id INTEGER PRIMARY KEY,\n",
    "    name TEXT,\n",
    "    department_id INTEGER,\n",
    "    FOREIGN KEY (department_id) REFERENCES departments1(department_id)        \n",
    ")''')\n",
    "\n",
    "# Insert data into departments\n",
    "conn.execute('''INSERT INTO departments1 (department_id, department_name) VALUES (1, 'HR') ''')\n",
    "conn.execute('''INSERT INTO departments1 (department_id, department_name) VALUES (2, 'Finance')''')\n",
    "\n",
    "# Insert data into employees\n",
    "conn.execute('''INSERT INTO employees1 (name, department_id) VALUES ('Alice', 1)''')\n",
    "conn.execute('''INSERT INTO employees1 (name, department_id) VALUES ('Bob', 2)''')\n",
    "\n",
    "# Commit the changes and close the connection\n",
    "conn.commit()\n",
    "conn.close()\n"
   ]
  },
  {
   "cell_type": "code",
   "execution_count": null,
   "metadata": {},
   "outputs": [],
   "source": []
  }
 ],
 "metadata": {
  "kernelspec": {
   "display_name": "base",
   "language": "python",
   "name": "python3"
  },
  "language_info": {
   "codemirror_mode": {
    "name": "ipython",
    "version": 3
   },
   "file_extension": ".py",
   "mimetype": "text/x-python",
   "name": "python",
   "nbconvert_exporter": "python",
   "pygments_lexer": "ipython3",
   "version": "3.11.7"
  }
 },
 "nbformat": 4,
 "nbformat_minor": 2
}
